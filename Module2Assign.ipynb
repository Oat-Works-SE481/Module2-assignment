{
 "cells": [
  {
   "cell_type": "markdown",
   "id": "46cdc5b6",
   "metadata": {},
   "source": [
    "# Module 2 Assignment\n",
    "\n",
    "Using the approach demonstrated up to page #71 of the slide and that of provided in the previous modules and demonstrate that:\n",
    "\n",
    "1.You can explore materials available in the internet and used them to explain how to make the example on pg #2 of this module run using multicores or multithreads\n",
    "\n",
    "2.You can transform all the matrixes of the example on pg #2 of this module to be in csr format and modify the code to let the csr-implemented yield the same result as its original. \n",
    "\n",
    "3.You can transform all the matrixes of the example on pg #2 of this module to be in coo format and modify the code to let the coo-implemented yield the same result as its original. Then compare the performance with (2)"
   ]
  },
  {
   "cell_type": "markdown",
   "id": "6e4a5efb",
   "metadata": {},
   "source": [
    "# preparing the essential library"
   ]
  },
  {
   "cell_type": "code",
   "execution_count": 1,
   "id": "263e5e58",
   "metadata": {},
   "outputs": [
    {
     "name": "stderr",
     "output_type": "stream",
     "text": [
      "[nltk_data] Downloading package punkt to\n",
      "[nltk_data]     C:\\Users\\ASUS\\AppData\\Roaming\\nltk_data...\n",
      "[nltk_data]   Package punkt is already up-to-date!\n",
      "[nltk_data] Downloading package stopwords to\n",
      "[nltk_data]     C:\\Users\\ASUS\\AppData\\Roaming\\nltk_data...\n",
      "[nltk_data]   Package stopwords is already up-to-date!\n"
     ]
    },
    {
     "data": {
      "text/plain": [
       "True"
      ]
     },
     "execution_count": 1,
     "metadata": {},
     "output_type": "execute_result"
    }
   ],
   "source": [
    "import pandas as pd # do some data\n",
    "import string\n",
    "import timeit # just import for timer\n",
    "import numpy as np\n",
    "from sklearn.feature_extraction.text import CountVectorizer\n",
    "\n",
    "import nltk\n",
    "from nltk.tokenize import word_tokenize\n",
    "from nltk.corpus import stopwords\n",
    "from nltk.stem import PorterStemmer\n",
    "\n",
    "nltk.download('punkt')\n",
    "nltk.download('stopwords')"
   ]
  },
  {
   "cell_type": "markdown",
   "id": "62f8f8b3",
   "metadata": {},
   "source": [
    "# Code from page 71"
   ]
  },
  {
   "cell_type": "markdown",
   "id": "49a3f3bf",
   "metadata": {},
   "source": [
    "### the retrive data part"
   ]
  },
  {
   "cell_type": "code",
   "execution_count": 2,
   "id": "15eca1f6",
   "metadata": {},
   "outputs": [],
   "source": [
    "def get_and_clean_data():\n",
    "    data = pd.read_csv('./data/software_developer_united_states_1971_20191023_1.csv')\n",
    "    description = data['job_description']\n",
    "    cleaned_description = description.apply(lambda s: s.translate(str.maketrans('', '', string.punctuation + u'\\xa0')))\n",
    "    cleaned_description = cleaned_description.apply(lambda s: s.lower())\n",
    "    cleaned_description = cleaned_description.apply(lambda s: s.translate(str.maketrans(string.whitespace, ' '*len(string.whitespace), '')))\n",
    "    cleaned_description = cleaned_description.drop_duplicates()\n",
    "    return cleaned_description"
   ]
  },
  {
   "cell_type": "markdown",
   "id": "c600de18",
   "metadata": {},
   "source": [
    "### The data cleaning part"
   ]
  },
  {
   "cell_type": "code",
   "execution_count": 3,
   "id": "eef8d314",
   "metadata": {},
   "outputs": [],
   "source": [
    "def clean_des() :\n",
    "    cleaned_description = get_and_clean_data()\n",
    "    cleaned_description = cleaned_description.iloc[:2]\n",
    "    \n",
    "    tokenized_description = cleaned_description.apply(lambda s : word_tokenize(s))\n",
    "    \n",
    "    sw_removed_description = tokenized_description.apply(\n",
    "        lambda s : [\n",
    "            word for word in s if word not in stopwords.words()\n",
    "        ]\n",
    "    )\n",
    "    \n",
    "    sw_removed_description = sw_removed_description.apply(\n",
    "        lambda s: [\n",
    "            word for word in s if len(word) > 2\n",
    "        ]\n",
    "    )\n",
    "    \n",
    "    ps = PorterStemmer()\n",
    "    \n",
    "    stemmed_description = sw_removed_description.apply(\n",
    "        lambda s: [\n",
    "            ps.stem(w) for w in s\n",
    "        ]\n",
    "    )\n",
    "    \n",
    "    return stemmed_description"
   ]
  },
  {
   "cell_type": "markdown",
   "id": "cca58491",
   "metadata": {},
   "source": [
    "### some example using those two function"
   ]
  },
  {
   "cell_type": "code",
   "execution_count": 12,
   "id": "66e7ae6b",
   "metadata": {
    "scrolled": true
   },
   "outputs": [
    {
     "name": "stdout",
     "output_type": "stream",
     "text": [
      "   0    1    2    3    4    5    6    7    8    9    ...  277  278  279  280  \\\n",
      "0    0    1    1    1    1    0    1    1    1    0  ...    1    1    3    1   \n",
      "1    1    0    0    0    0    1    0    0    0    1  ...    0    0    1    0   \n",
      "\n",
      "   281  282  283  284  285  286  \n",
      "0    2    1    0    5    1    0  \n",
      "1    1    0    1    1    0    1  \n",
      "\n",
      "[2 rows x 287 columns]\n"
     ]
    }
   ],
   "source": [
    "stemmed_description = clean_des()\n",
    "\n",
    "cv = CountVectorizer(analyzer=lambda x:x)\n",
    "X = cv.fit_transform(stemmed_description)\n",
    "\n",
    "print(pd.DataFrame(X.toarray()))"
   ]
  },
  {
   "cell_type": "markdown",
   "id": "e5074fbf",
   "metadata": {},
   "source": [
    "### another example from those two function above"
   ]
  },
  {
   "cell_type": "code",
   "execution_count": 10,
   "id": "3dba21dc",
   "metadata": {},
   "outputs": [
    {
     "data": {
      "text/plain": [
       "(2, 2)"
      ]
     },
     "execution_count": 10,
     "metadata": {},
     "output_type": "execute_result"
    }
   ],
   "source": [
    "timeit.timeit(lambda: np.matmul(X.toarray(),X.toarray().T),number=1)\n",
    "np.shape(np.matmul(X.toarray(),X.toarray().T))\n",
    "\n",
    "timeit.timeit(lambda: X*X.T,number=1)\n",
    "np.shape(X*X.T)"
   ]
  },
  {
   "cell_type": "markdown",
   "id": "b5499555",
   "metadata": {},
   "source": [
    "---"
   ]
  },
  {
   "cell_type": "markdown",
   "id": "22151c08",
   "metadata": {},
   "source": [
    "# This is code from page 2"
   ]
  },
  {
   "cell_type": "markdown",
   "id": "4b6a03eb",
   "metadata": {},
   "source": [
    "### clean data part"
   ]
  },
  {
   "cell_type": "code",
   "execution_count": 4,
   "id": "e9cbdf4a",
   "metadata": {},
   "outputs": [],
   "source": [
    "def simple_tokenize(data) :\n",
    "    cleaned_description = data.apply(lambda s: [x.strip() for x in s.split()])\n",
    "    return cleaned_description"
   ]
  },
  {
   "cell_type": "code",
   "execution_count": 5,
   "id": "839408b8",
   "metadata": {},
   "outputs": [],
   "source": [
    "def parse_job_description():\n",
    "    cleaned_description = get_and_clean_data()\n",
    "    cleaned_description = simple_tokenize(cleaned_description)\n",
    "    return cleaned_description"
   ]
  },
  {
   "cell_type": "markdown",
   "id": "48bfff83",
   "metadata": {},
   "source": [
    "### The code"
   ]
  },
  {
   "cell_type": "code",
   "execution_count": 18,
   "id": "3b8f2ce1",
   "metadata": {},
   "outputs": [
    {
     "name": "stdout",
     "output_type": "stream",
     "text": [
      "Collecting tabulate\n",
      "  Downloading tabulate-0.8.9-py3-none-any.whl (25 kB)\n",
      "Installing collected packages: tabulate\n",
      "Successfully installed tabulate-0.8.9\n",
      "Note: you may need to restart the kernel to use updated packages.\n"
     ]
    }
   ],
   "source": [
    "pip install tabulate"
   ]
  },
  {
   "cell_type": "code",
   "execution_count": 9,
   "id": "bb217615",
   "metadata": {
    "scrolled": true
   },
   "outputs": [
    {
     "name": "stdout",
     "output_type": "stream",
     "text": [
      "|      | job_description                                                                                                                                                                                                                                                                                                                                                                                                                                                                                                                                                                                                                                                                                                                                                                                                                                                                                                                                                                                                                                                                                                                                                                                                                                                                                                                                                                                                                                                                                                                                                                                                                                                                                                                                                                                                                                                                                                                                                                                                                                                                                                                                                                                                                                                                                                                                                                                                                                                                                                                                                                                                                                                                                                                                                                                                                                                                                                                                                                                                                                                                                                                                                                                                                                                                                                                                                                                                                                                                                                                                                                                                                                                                                                                                                                                                                                                                                                                                                                                                                                                                                                                                                                                                                                                                                                                                                                                                                                                                                                                                                                                                                                                                                                                                                                                                                                                                                                                                                                                                                                                                                                                                                                                                                                                                                                                                                                                                                                                                                                                                                                                                                                                                                                                                                                                                                                                                                                                                                                                                                                                                                                                                                                                                                                                                                                                                                                                                                                                                                                                                                                                                                                                                                                                                                                                                                                                                                                                                                                                                                                                                                                                                                                                                                                                                                                                                                                                                                                                                                                                                                                                                                                                                                                                                                                                                                                                                                                                                                                                                                                                                                                                                                                                                                                                                                                                                                                                                                                                                                                                                                                                                                                                                                                                                                                                                |\n",
      "|-----:|:---------------------------------------------------------------------------------------------------------------------------------------------------------------------------------------------------------------------------------------------------------------------------------------------------------------------------------------------------------------------------------------------------------------------------------------------------------------------------------------------------------------------------------------------------------------------------------------------------------------------------------------------------------------------------------------------------------------------------------------------------------------------------------------------------------------------------------------------------------------------------------------------------------------------------------------------------------------------------------------------------------------------------------------------------------------------------------------------------------------------------------------------------------------------------------------------------------------------------------------------------------------------------------------------------------------------------------------------------------------------------------------------------------------------------------------------------------------------------------------------------------------------------------------------------------------------------------------------------------------------------------------------------------------------------------------------------------------------------------------------------------------------------------------------------------------------------------------------------------------------------------------------------------------------------------------------------------------------------------------------------------------------------------------------------------------------------------------------------------------------------------------------------------------------------------------------------------------------------------------------------------------------------------------------------------------------------------------------------------------------------------------------------------------------------------------------------------------------------------------------------------------------------------------------------------------------------------------------------------------------------------------------------------------------------------------------------------------------------------------------------------------------------------------------------------------------------------------------------------------------------------------------------------------------------------------------------------------------------------------------------------------------------------------------------------------------------------------------------------------------------------------------------------------------------------------------------------------------------------------------------------------------------------------------------------------------------------------------------------------------------------------------------------------------------------------------------------------------------------------------------------------------------------------------------------------------------------------------------------------------------------------------------------------------------------------------------------------------------------------------------------------------------------------------------------------------------------------------------------------------------------------------------------------------------------------------------------------------------------------------------------------------------------------------------------------------------------------------------------------------------------------------------------------------------------------------------------------------------------------------------------------------------------------------------------------------------------------------------------------------------------------------------------------------------------------------------------------------------------------------------------------------------------------------------------------------------------------------------------------------------------------------------------------------------------------------------------------------------------------------------------------------------------------------------------------------------------------------------------------------------------------------------------------------------------------------------------------------------------------------------------------------------------------------------------------------------------------------------------------------------------------------------------------------------------------------------------------------------------------------------------------------------------------------------------------------------------------------------------------------------------------------------------------------------------------------------------------------------------------------------------------------------------------------------------------------------------------------------------------------------------------------------------------------------------------------------------------------------------------------------------------------------------------------------------------------------------------------------------------------------------------------------------------------------------------------------------------------------------------------------------------------------------------------------------------------------------------------------------------------------------------------------------------------------------------------------------------------------------------------------------------------------------------------------------------------------------------------------------------------------------------------------------------------------------------------------------------------------------------------------------------------------------------------------------------------------------------------------------------------------------------------------------------------------------------------------------------------------------------------------------------------------------------------------------------------------------------------------------------------------------------------------------------------------------------------------------------------------------------------------------------------------------------------------------------------------------------------------------------------------------------------------------------------------------------------------------------------------------------------------------------------------------------------------------------------------------------------------------------------------------------------------------------------------------------------------------------------------------------------------------------------------------------------------------------------------------------------------------------------------------------------------------------------------------------------------------------------------------------------------------------------------------------------------------------------------------------------------------------------------------------------------------------------------------------------------------------------------------------------------------------------------------------------------------------------------------------------------------------------------------------------------------------------------------------------------------------------------------------------------------------------------------------------------------------------------------------------------------------------------------------------------------------------------------------------------------------------------------------------------------------------------------------------------------------------------------------------------------------------------------------------------------------------------------------------------------------------------------------------------------------------------------------------------------------|\n",
      "| 2028 | read what people are saying about working here as a senior software developer you will perform system and subsystem definition preliminary and detailed design design implementation and subsystem and system integration and tests for a system participates in software requirement review preliminary and critical design integration readiness review and software acceptance review may research the marketing requirements for a product including target environment performance criteria and competitive issues interacts with senior customer personnel on significant technical matters often requiring coordinated activity across organizational lines may provide technical guidance to lower level software engineers position requirements 6 years of programming required experience with build environments such as gradle and maven developing software to satisfy customer requirements debugging software and troubleshooting software design and architecture experience with object oriented analysis and design familiarity with version control knowledge of sqlbased databases preferably oracle andor nosql datastores such as mongodb knowledge of agile software development methodology knowledge of xml and xslt requires bachelor’s degree in computer science or related field or equivalent and at least 8 years of related experience desired experience microservices hibernatejpa concurrency angular js or similar javascript gui frameworks java with springspringboot subversion andor git experience experience using vmware preferably esx qualifications position requirements 6 years of programming required experience with build environments such as gradle and maven developing software to satisfy customer requirements debugging software and troubleshooting software design and architecture experience with object oriented analysis and design familiarity with version control knowledge of sqlbased databases preferably oracle andor nosql datastores such as mongodb knowledge of agile software development methodology knowledge of xml and xslt requires bachelor’s degree in computer science or related field or equivalent and at least 8 years of related experience additional qualifications us citizen degrees see qualifications years of experience see qualifications mantech is more than a technology company we are a company dedicated to service and we consider our work a part of the public trust th                                                                                                                                                                                                                                                                                                                                                                                                                                                                                                                                                                                                                                                                                                                                                                                                                                                                                                                                                                                                                                                                                                                                                                                                                                                                                                                                                                                                                                                                                                                                                                                                                                                                                                                                                                                                                                                                                                                                                                                                                                                                                                                                                                                                                                                                                                                                                                                                                                                                                                                                                                                                                                                                                                                                                                                                                                                                                                                                                                                                                                                                                                                                                                                                                                                                                                                                                                                                                                                                                                                                                                                                                                                                                                                                                                                                                                                                                                                                                                                                                                                                                                                                                                                                                                                                                                                                                                                                                                                                                                                                                                                                                                                                                                                                                                                                                                                                                                                                                                                                                                                                                                                                                                                                                                                                                                                                                                                                                                                                                                                                                                                                                                                                                                                                                                                                                                                                                                                                                                                                                                                                                                                                                                                                                                                                                                                           |\n",
      "|  493 | the allstate corporation is the largest publicly held personal lines property and casualty insurer in america allstate was founded in 1931 and became a publicly traded company in 1993 we are listed on the new york stock exchange under the trading symbol all allstate is widely known through the youre in good hands with allstate slogan as of yearend 2013 allstate had 1235 billion in total assets in 2014 allstate was number 92 on the fortune 500 list of largest companies in america where good people build rewarding careers think that working in the insurance field can t be exciting rewarding and challenging think again you ll help us reinvent protection and retirement to improve customers lives we ll help you make an impact with our training and mentoring offerings here you ll have the opportunity to expand and apply your skills in ways you never thought possible and you ll have fun doing it join a company of individuals with hopes plans and passions all using and developing our talents for good at work and in life job description the opportunity compozed development is growing daily across our multiple allstate development groups we ve launched several products and we haven t stopped accelerating we are committed to moving quickly as the number of projects and products continues to expand and evolve leveraging our skills to assist the allstate development groups in bringing the best solutions and services to market don t miss this opportunity to join an organization where your innovative thinking and technology skills can make an impact on the future of the way allstate develops and delivers software in the future the team we are the allstate compozed development team we bring to market innovative services and solutions for allstate by partnering with it developers across the company leveraging the agile xp methodology and the pivotal cloud foundry technology platform on most compozed projects the technical team is a mix of a product manager representing the business needs a product designer providing ux information architecture and design as well as highly skilled and diversified product developers job description the role allstate compozed agile xp developers have competencies in all aspects of engineering including testingqa front end javascript and mobile development backend and sql most developers are also skilled in devops including systems administrationstyle work such as scripting deploys and setting up continuous integration pairing developers with other experienced team members ensures training and knowledge transfer is happening as efficiently as possible without risking the quality of the development this role drives quality delivery through utilizing paired programming leveraging testdriven development daily interactions and open communication channels with you and your product manager participation in iteration planning standup and retrospective meetings able to facilitate diverse teams multitask and work under pressure to meet aggressive schedule targets able to work effectively across organizational and geographical boundaries expectations for a compozed developer include demonstrate technical skills and aptitude needed to meetexceed delivery velocity expectations as a full stack developer actively learn different technologies as needed for delivery of stories adhere to compozed practices for example pair programming and testdriven development and hold others accountable for the same deliver on all phases of development work from initial kickoff technical setup application development and support serve as a leader in all dimensions of the work people process technology embrace approach of making collaborative fast local decisions then course correct asif needed testlearniterate active participation in regular compozed meetings eg site standup product team standup iteration planning meeting retrospective lunch learns actively work to transfer knowledge of allstate compozed practices and technical skills to other people including delivery areas to grow adoption provide meaningfulthoughtful feedback on others as requested receive constructive criticism and take necessary steps to improve wherewhen needed if there is bench time leverage it to work on any assigned projects andor for selfstudy to advance technical skills developed code should promote principles of 12 factor apps availability scalability maintainability and security maintain positive outlook in handling continuous change and bring a sense of urgency in driving positive change at allstate innovation faster time to market improved quality embrace an organization model that is selfdirected selfmanaged as a team and as individuals satisfy all administrativetype requirements such as timesheets performance management process annual compliance security training etc job qualifications you are entrepreneurial with a strong inclination towards action and leadership in ambiguous situations you are passionate about technical topics such as computer languages and frameworks mobility and internet of things you can translate complex user stories into a good technical code and deliver it effectively you re ready to judge your success by the success of your team and the happiness of your customers preferred qualifications 12 years technology development and implementation experience knowledge of agile methodologies especially agile xp including paired programming and test driven development excellent java andor javascript coding background including familiarity with the following tools intellijide github spring framework angularjs or reactjs mircrosoft sql server or mongodb familiarity with the following is a plus jenkins nodejs undergraduate degree in software engineering or computer science good work good life good hands as a fortune 100 company and industry leader we provide a competitive salary but that s just the beginning our total rewards package also offers benefits like tuition assistance medical and dental insurance as well as a robust pension and 401k plus you ll have access to a wide variety of programs to help you balance your work and personal life including a generous paid time off policy learn more about life at allstate connect with us on twitter facebook instagram and linkedin or watch a video                                                                                                                                                                                                                                                                                                                                                                                                                                                                                                                                                                                                                                                                                                                                                                                                                                                                                                                                                                                                                                                                                                                                                                                                                                                                                                                                                                                                                                                                                                                                                                                                                                                                                                                                                                                                                                                                                                                                                                                                                                                                                                                                                                                                                                                                 |\n",
      "| 6128 | read what people are saying about working here at kibo we provide cloud commerce solutions inspired by our clients needs and designed to empower their teams together we can help them see further think bigger and climb higher our software and services include ecommerce order management personalization and mobile pointofcommerce we serve retailers manufacturers and brands and our solutions are designed to power the shopping experience – from first click to doorstep – and to scale with them as their business grows a highly motivated individual interested in software development you will be contributing to the development effort of various enterprise level multitenant saas solutions the primary focus of this position is to produce highquality enterprise applications you’ll get a chance to leverage your topshelf net development skills and work with a remarkably talented group of development professionals if you would like to work on interesting projects in a fantastic company we may be a fit for you essential responsibilities and duties design and write high quality code to evolve the kibo platform with an emphasis on highscalability multitenant saas architecture ntier distributed architecture multidatacenter resiliency apifirst design and platform extensibility leverage c aspnet web api angularjs reactjs nodejs f sql server mongodb solr and rabbit mq work with agile software lifecycle methodologies including daily scrums collaboration sprint reviews and code demonstrations collaborate extensively through the full product lifecycle with product management user experience management product marketing sales support professional services partners and customers break down complex requirements into independent coding tasks and strategies apply advanced design patterns and technologies to develop high quality scalable and maintainable code research and integrate best of breed technologiesframeworkslibraries contributing back to open source efforts where possible create unit and integration tests to fully test and regress software participate in design and code reviews qualifications 35 years’ experience as a developer utilizing technologies like netc java or angularjs or reactjs expertlevel knowledge of the net and c framework strongly preferred someone who is passionate about learning new things and improving your development skills strong knowledge of web services soap or rest experience with aspnet web api or equivalent a plus experience with relational databases sql server preferred experience with document database technologies preferred especially mongodb experience building and performance testing highscale solutions such as websites that serve millions of requests experience with mock testing unit testing integration testing and system testing abilities including automated testing techniques using nunit or similar strong interpersonal skills ability to work with people with a variety of skill sets bsms in computer science or a related field at kibo we provide cloud commerce solutions inspired by our clients needs and designed to empower their teams together we can help them see further think bigger and climb higher our software and services include ecommerce order management personalization and mobile pointofcommerce we serve retailers manufacturers and brands and our solutions are designed to power the shopping experience – from first click to doorstep – and to scale with them as their business grows a highly motivated individual interested in software development you will be contributing to the development effort of various enterprise level multitenant saas solutions the primary focus of this position is to produce highquality enterprise applications you’ll get a chance to leverage your topshelf net development skills and work with a remarkably talented group of development professionals if you would like to work on interesting projects in a fantastic company we may be a fit for you essential responsibilities and duties design and write high quality code to evolve the kibo platform with an emphasis on highscalability multitenant saas architecture ntier distributed architecture multidatacenter resiliency apifirst design and platform extensibility leverage c aspnet web api angularjs reactjs nodejs f sql server mongodb solr and rabbit mq work with agile software lifecycle methodologies including daily scrums collaboration sprint reviews and code demonstrations collaborate extensively through the full product lifecycle with product management user experience management product marketing sales support professional services partners and customers break down complex requirements into independent coding tasks and strategies apply advanced design patterns and technologies to develop high quality scalable and maintainable code research and integrate best of breed technologiesframeworkslibraries contributing back to open source efforts where possible create unit and integration tests to fully test and regress software participate in design and code reviews qualifications 35 years’ experience as a developer utilizing technologies like netc java or angularjs or reactjs expertlevel knowledge of the net and c framework strongly preferred someone who is passionate about learning new things and improving your development skills strong knowledge of web services soap or rest experience with aspnet web api or equivalent a plus experience with relational databases sql server preferred experience with document database technologies preferred especially mongodb experience building and performance testing highscale solutions such as websites that serve millions of requests experience with mock testing unit testing integration testing and system testing abilities including automated testing techniques using nunit or similar strong interpersonal skills ability to work with people with a variety of skill sets bsms in computer science or a related field                                                                                                                                                                                                                                                                                                                                                                                                                                                                                                                                                                                                                                                                                                                                                                                                                                                                                                                                                                                                                                                                                                                                                                                                                                                                                                                                                                                                                                                                                                                                                                                                                                                                                                                                                                                                                                                                                                                                                                                                                                                                                                                                                                                                                                                                                                                                                                                                                                                                                                                                                                                                                               |\n",
      "| 9209 | sr software developer so00046688111 ust global is a private high growth organization headquartered in orange county california and is a leading provider of advanced computing and digital services for global 1000 companies worldwide our nextgeneration digital consultancy is the ideal place for you to grow your career are you up for the challenge read on description professional experience 10 years of experience in design development relevant technology disciplines healthcare knowledge is a plus roles responsibilities work with architect group for solutions that articulate the business context conceptual design and component level logical design ensure development is in compliance with overall architecture vision for the platform and ensures specific components are appropriately designed and leveraged understand the construction of platform architecture components participate in design activities and own the development of the work assigned work closely with qa and integration team to resolve issues able to understand the technology roadmap and delivers cost effectiveness business value and competitiveness experience in designing marking up developing the ui of websites and or web applications co ordinating with the offshore team on the deliverables technology stack mandatory java j2ee websphere hibernate 32 web services hands on technical lead with exposure and experience in a wide variety of java technologies with specific expertise in the spring suite of products spring core transaction aop orm mvc data security session web sockets cloud front end frameworks like extjs or libraries like jquery ajax solid markup skills utilizing html5 css3 javascript experience with bootstrap frontend framework experience with developing ui for single page applications angular2 and typescript jasmine and karma frameworks struts 1x and 2x database sql server intermediate knowledge preferred junit unit testing frameworks elasticsearch apis preferred ejb 2 mongodb knowledge of netflix oss products and tools is good to have experience developing in cloud based virtualized environments is preferred experience with responsive and mobile design drools 5 maven jenkins git subver qualifications bachelor degree primary location usvarichmond employee type regular employee job type fulltime job posting jul 23 2019 31833 pm ustglobal is an equal opportunity employer                                                                                                                                                                                                                                                                                                                                                                                                                                                                                                                                                                                                                                                                                                                                                                                                                                                                                                                                                                                                                                                                                                                                                                                                                                                                                                                                                                                                                                                                                                                                                                                                                                                                                                                                                                                                                                                                                                                                                                                                                                                                                                                                                                                                                                                                                                                                                                                                                                                                                                                                                                                                                                                                                                                                                                                                                                                                                                                                                                                                                                                                                                                                                                                                                                                                                                                                                                                                                                                                                                                                                                                                                                                                                                                                                                                                                                                                                                                                                                                                                                                                                                                                                                                                                                                                                                                                                                                                                                                                                                                                                                                                                                                                                                                                                                                                                                                                                                                                                                                                                                                                                                                                                                                                                                                                                                                                                                                                                                                                                                                                                                                                                                                                                                                                                                                                                                                                                                                                                                                                                                                                                                                                                                                                                                                                                                                                     |\n",
      "| 6140 | read what people are saying about working here trust safety engineering at adobe develops and operates internal services to detect and mitigate abusive activity and undesirable content on adobe’s cloud platform we are looking for experienced computer scientists and engineers to understand patterns of abuse develop new strategies and algorithms implement them and monitor their effectiveness the team operates as a onestop shop directly responsible for functionality definition architecture design implementation deployment and support adobe has been a pioneer and innovator throughout its history and is recognized as one of the top 100 best global brands according to interbrand adobe’s dynamic working environment is also well known and has received awards throughout the globe recognizing that employees are at the core of our success adobe recruits and retains highly qualified and motivated individuals creates an environment where they can innovate and achieve their best and rewards them for their performance by giving them an opportunity to share in the company’s success what you’ll do develop strategies and algorithms to detect undesirable content and activity analyze user reports and usage data to extract patterns of abuse implement automated and hybrid workflows to mitigate detected abuse publish and analyze metrics indicating the level of abusive activity and trends work with product engineering and support teams to integrate existing or new platform services analyze gaps and identify new functionality for development develop working relationships with peers in other organizations to keep on top of industry trends and work in academia serve as a domain expert and goto resource on trust safety what you need to succeed bs ms or phd in computer science computer engineering or mathematics outstanding candidates with graduate degrees in other engineering fields or physical sciences along with substantial experience in software development will be considered minimum five years’ experience designing developing and implementing web services at service provider scale expertlevel knowledge of linux a web server like apache or nginx related technologies and tools to build web services json and xml significant experience developing and debugging in python experience with java c and javascript are highly desirable ability to work in a linux command line environment with a scripting interface like bash and with pattern matching and extraction tools like grep and awk familiarity and a high level of comfort working in agile development and deployment teams scrum experience is a plus especially working in atlassian tools jira confluence expertlevel knowledge and implementation experience in at least two of the following areas platform services for abuse detection and prevention – spam nudity violence profanity hatred and user activity modeling machine learning algorithms and their implementation – feature extraction model building training and validation aggregation scrubbing filtering and analysis of large data sets log aggregation data extraction and analysis with splunk data access and management with relational mysql postgres or oracle and nonrelational databases mongodb or cassandra image and video content – encodingtranscoding compression pattern extraction pattern matching character and object recognition cloudscale software and services on cloud environments – aws azure gcp or openstack with docker user interfaces and visualization on the web with angular or react resource consumption and performance analysis on linux at adobe you will be immersed in an exceptional work environment that is recognized throughout the world on best companies lists you will also be surrounded by colleagues who are committed to helping each other grow through our unique checkin approach where ongoing feedback flows freely if you’re looking to make an impact adobes the place for you discover what our employees are saying about their career experiences on the adobe life blog and explore the meaningful benefits we offer adobe is an equal opportunity employer we welcome and encourage diversity in the workplace regardless of race gender religion age sexual orientation gender identity disability or veteran status trust safety engineering at adobe develops and operates internal services to detect and mitigate abusive activity and undesirable content on adobe’s cloud platform we are looking for experienced computer scientists and engineers to understand patterns of abuse develop new strategies and algorithms implement them and monitor their effectiveness the team operates as a onestop shop directly responsible for functionality definition architecture design implementation deployment and support adobe has been a pioneer and innovator throughout its history and is recognized as one of the top 100 best global brands according to interbrand adobe’s dynamic working environment is also well known and has received awards throughout the globe recognizing that employees are at the core of our success adobe recruits and retains highly qualified and motivated individuals creates an environment where they can innovate and achieve their best and rewards them for their performance by giving them an opportunity to share in the company’s success what you’ll do develop strategies and algorithms to detect undesirable content and activity analyze user reports and usage data to extract patterns of abuse implement automated and hybrid workflows to mitigate detected abuse publish and analyze metrics indicating the level of abusive activity and trends work with product engineering and support teams to integrate existing or new platform services analyze gaps and identify new functionality for development develop working relationships with peers in other organizations to keep on top of industry trends and work in academia serve as a domain expert and goto resource on trust safety what you need to succeed bs ms or phd in computer science computer engineering or mathematics outstanding candidates with graduate degrees in other engineering fields or physical sciences along with substantial experience in software development will be considered minimum five years’ experience designing developing and implementing web services at service provider scale expertlevel knowledge of linux a web server like apache or nginx related technologies and tools to build web services json and xml significant experience developing and debugging in python experience with java c and javascript are highly desirable ability to work in a linux command line environment with a scripting interface like bash and with pattern matching and extraction tools like grep and awk familiarity and a high level of comfort working in agile development and deployment teams scrum experience is a plus especially working in atlassian tools jira confluence expertlevel knowledge and implementation experience in at least two of the following areas platform services for abuse detection and prevention – spam nudity violence profanity hatred and user activity modeling machine learning algorithms and their implementation – feature extraction model building training and validation aggregation scrubbing filtering and analysis of large data sets log aggregation data extraction and analysis with splunk data access and management with relational mysql postgres or oracle and nonrelational databases mongodb or cassandra image and video content – encodingtranscoding compression pattern extraction pattern matching character and object recognition cloudscale software and services on cloud environments – aws azure gcp or openstack with docker user interfaces and visualization on the web with angular or react resource consumption and performance analysis on linux at adobe you will be immersed in an exceptional work environment that is recognized throughout the world on best companies lists you will also be surrounded by colleagues who are committed to helping each other grow through our unique checkin approach where ongoing feedback flows freely if you’re looking to make an impact adobes the place for you discover what our employees are saying about their career experiences on the adobe life blog and explore the meaningful benefits we offer adobe is an equal opportunity employer we welcome and encourage diversity in the workplace regardless of race gender religion age sexual orientation gender identity disability or veteran status |\n"
     ]
    }
   ],
   "source": [
    "from tabulate import tabulate\n",
    "\n",
    "parsed_description = parse_job_description()\n",
    "\n",
    "sw_set = set(stopwords.words()) - {'c'}\n",
    "no_sw_description = parsed_description.apply(\n",
    "    lambda x: [w for w in x if w not in sw_set]\n",
    ")\n",
    "\n",
    "ps = PorterStemmer()\n",
    "\n",
    "stemmed_description = no_sw_description.apply(\n",
    "    lambda x: set([ps.stem(w) for w in x])\n",
    ")\n",
    "\n",
    "all_unique_term = list(\n",
    "    set.union(*stemmed_description.to_list())\n",
    ")\n",
    "\n",
    "invert_idx = {}\n",
    "\n",
    "for s in all_unique_term :\n",
    "    invert_idx[s] = set(\n",
    "        stemmed_description.loc[\n",
    "            stemmed_description.apply(\n",
    "                lambda x : s in x\n",
    "            )\n",
    "        ].index\n",
    "    )\n",
    "\n",
    "\n",
    "# search mongodb\n",
    "to_search_db = ['mongodb']\n",
    "\n",
    "stemmed_db = np.unique([\n",
    "    ps.stem(w) for w in to_search_db\n",
    "])\n",
    "\n",
    "searched_db = set.union(\n",
    "    *[invert_idx[s] for s in stemmed_db]\n",
    ")\n",
    "\n",
    "# search java\n",
    "to_search_lang = ['java']\n",
    "\n",
    "stemmed_lang = np.unique([\n",
    "    ps.stem(w) for w in to_search_lang\n",
    "])\n",
    "\n",
    "searched_lang = set.union(\n",
    "    *[invert_idx[s] for s in stemmed_lang]\n",
    ")\n",
    "\n",
    "appear_both = searched_db.intersection(searched_lang)\n",
    "\n",
    "print(\n",
    "    parsed_description.loc[appear_both].apply(\n",
    "        lambda x: ' '.join(x)\n",
    "    ).tail().to_markdown()\n",
    ")"
   ]
  },
  {
   "cell_type": "markdown",
   "id": "835015c2",
   "metadata": {},
   "source": [
    "---"
   ]
  },
  {
   "cell_type": "markdown",
   "id": "a8a8d8f7",
   "metadata": {},
   "source": [
    "# The Assignment part"
   ]
  },
  {
   "cell_type": "markdown",
   "id": "ecd7966f",
   "metadata": {},
   "source": [
    "#### 1.You can explore materials available in the internet and used them to explain how to make the example on pg #2 of this module run using multicores or multithreads"
   ]
  },
  {
   "cell_type": "code",
   "execution_count": 6,
   "id": "eee07564",
   "metadata": {},
   "outputs": [
    {
     "name": "stdout",
     "output_type": "stream",
     "text": [
      "My computer can process 8 jobs in parallel\n"
     ]
    }
   ],
   "source": [
    "import multiprocessing as mp\n",
    "print(\"My computer can process\",mp.cpu_count(),\"jobs in parallel\")"
   ]
  },
  {
   "cell_type": "markdown",
   "id": "233b8cd4",
   "metadata": {},
   "source": [
    "#### Preparing the multiprocessing computing"
   ]
  },
  {
   "cell_type": "code",
   "execution_count": null,
   "id": "913bf1b9",
   "metadata": {},
   "outputs": [],
   "source": [
    "parsed_description_modified = parse_job_description()\n",
    "\n",
    "sw_set_modified = set(stopwords.words()) - {'c'}\n",
    "no_sw_description_modified = parsed_description_modified.apply(\n",
    "    lambda x: [w for w in x if w not in sw_set_modified]\n",
    ")   \n",
    "\n",
    "ps_modified = PorterStemmer()\n",
    "\n",
    "stemmed_description_modified = no_sw_description_modified.apply(\n",
    "    lambda x: set([ps_modified.stem(w) for w in x])\n",
    ")\n",
    "\n",
    "all_unique_term_modified = list(\n",
    "    set.union(*stemmed_description_modified.to_list())\n",
    ")\n",
    "\n",
    "invert_idx_modified = {}\n",
    "\n",
    "for s in all_unique_term_modified :\n",
    "    invert_idx_modified[s] = set(\n",
    "        stemmed_description_modified.loc[\n",
    "            stemmed_description_modified.apply(\n",
    "                lambda x : s in x\n",
    "            )\n",
    "        ].index\n",
    "    )"
   ]
  },
  {
   "cell_type": "markdown",
   "id": "e7050947",
   "metadata": {},
   "source": [
    "#### seperate the code that can do a pararell"
   ]
  },
  {
   "cell_type": "code",
   "execution_count": 16,
   "id": "deba109b",
   "metadata": {},
   "outputs": [],
   "source": [
    "def searching(keyword) :\n",
    "    to_search = [keyword]\n",
    "\n",
    "    stemmed = np.unique([\n",
    "        ps_modified.stem(w) for w in to_search\n",
    "    ])\n",
    "\n",
    "    searched = set.union(\n",
    "        *[invert_idx_modified[s] for s in stemmed]\n",
    "    )\n",
    "    return searched"
   ]
  },
  {
   "cell_type": "code",
   "execution_count": 17,
   "id": "289f1893",
   "metadata": {},
   "outputs": [],
   "source": [
    "def keyword_intersac(key1,key2) :\n",
    "    return key1.intersection(key2)"
   ]
  },
  {
   "cell_type": "markdown",
   "id": "56ead36e",
   "metadata": {},
   "source": [
    "#### using Multiprocessing pool to do a multiprocessing stuff"
   ]
  },
  {
   "cell_type": "code",
   "execution_count": 18,
   "id": "b0982017",
   "metadata": {},
   "outputs": [],
   "source": [
    "def core_search() :\n",
    "    pool = mp.Pool(processes=8)\n",
    "    lang_mod = pool.apply_async(searching,('java'))\n",
    "    db_mod = pool.apply_async(searching,('mongodb'))\n",
    "    appear_both_modified = pool.apply_async(keyword_intersac,(db_mod.get(),lang_mod.get()))\n",
    "    return appear_both_modified.get()"
   ]
  },
  {
   "cell_type": "code",
   "execution_count": null,
   "id": "2434da35",
   "metadata": {},
   "outputs": [],
   "source": [
    "both_mode = core_search()\n",
    "print(\n",
    "    parsed_description_modified.loc[both_mode].apply(\n",
    "        lambda x: ' '.join(x)\n",
    "    ).tail().to_markdown()\n",
    ")"
   ]
  },
  {
   "cell_type": "markdown",
   "id": "38072f9b",
   "metadata": {},
   "source": [
    "#### 2.You can transform all the matrixes of the example on pg #2 of this module to be in csr format and modify the code to let the csr-implemented yield the same result as its original."
   ]
  },
  {
   "cell_type": "code",
   "execution_count": 15,
   "id": "949af92c",
   "metadata": {},
   "outputs": [
    {
     "name": "stdout",
     "output_type": "stream",
     "text": [
      "original result\n",
      "  (0, 28)\t476\n",
      "  (0, 15)\t864\n",
      "  (0, 11)\t455\n",
      "  (0, 14)\t249\n",
      "  (0, 0)\t1131\n",
      "  (0, 33)\t90\n",
      "  (0, 18)\t126\n",
      "  (0, 30)\t542\n",
      "  (0, 26)\t294\n",
      "  (0, 25)\t521\n",
      "  (0, 22)\t387\n",
      "  (0, 29)\t483\n",
      "  (0, 35)\t85\n",
      "  (0, 19)\t652\n",
      "  (0, 24)\t534\n",
      "  (0, 17)\t214\n",
      "  (0, 12)\t97\n",
      "  (0, 31)\t211\n",
      "  (0, 21)\t47\n",
      "  (0, 32)\t106\n",
      "  (0, 20)\t28\n",
      "  (0, 13)\t306\n",
      "  (0, 16)\t132\n",
      "  (0, 23)\t156\n",
      "  (0, 27)\t42\n",
      "  (0, 36)\t2\n",
      "  (0, 2)\t2\n",
      "  (0, 34)\t38\n",
      "  (0, 46)\t2\n",
      "  (0, 49)\t10\n",
      "  (0, 8)\t2\n",
      "  (0, 6)\t4\n",
      "  (0, 4)\t6\n",
      "  (0, 53)\t2\n",
      "  (0, 3)\t2\n"
     ]
    },
    {
     "data": {
      "text/plain": [
       "0.002322899999967376"
      ]
     },
     "execution_count": 15,
     "metadata": {},
     "output_type": "execute_result"
    }
   ],
   "source": [
    "cv = CountVectorizer(analyzer=lambda x:x)\n",
    "X = cv.fit_transform(\n",
    "    parsed_description.loc[appear_both].apply(\n",
    "        lambda x: ' '.join(x)\n",
    "    )\n",
    ")\n",
    "\n",
    "# original timing\n",
    "timeit.timeit(lambda: np.matmul(X.toarray(),X.toarray().T),number=1)\n",
    "np.shape(np.matmul(X.toarray(),X.toarray().T))\n",
    "\n",
    "print(\"original result\")\n",
    "print(X[0, :])\n",
    "timeit.timeit(lambda: X*X.T,number=1)"
   ]
  },
  {
   "cell_type": "code",
   "execution_count": 16,
   "id": "96161539",
   "metadata": {},
   "outputs": [
    {
     "name": "stdout",
     "output_type": "stream",
     "text": [
      "  (0, 28)\t476\n",
      "  (0, 15)\t864\n",
      "  (0, 11)\t455\n",
      "  (0, 14)\t249\n",
      "  (0, 0)\t1131\n",
      "  (0, 33)\t90\n",
      "  (0, 18)\t126\n",
      "  (0, 30)\t542\n",
      "  (0, 26)\t294\n",
      "  (0, 25)\t521\n",
      "  (0, 22)\t387\n",
      "  (0, 29)\t483\n",
      "  (0, 35)\t85\n",
      "  (0, 19)\t652\n",
      "  (0, 24)\t534\n",
      "  (0, 17)\t214\n",
      "  (0, 12)\t97\n",
      "  (0, 31)\t211\n",
      "  (0, 21)\t47\n",
      "  (0, 32)\t106\n",
      "  (0, 20)\t28\n",
      "  (0, 13)\t306\n",
      "  (0, 16)\t132\n",
      "  (0, 23)\t156\n",
      "  (0, 27)\t42\n",
      "  :\t:\n",
      "  (165, 18)\t176\n",
      "  (165, 30)\t574\n",
      "  (165, 26)\t194\n",
      "  (165, 25)\t525\n",
      "  (165, 22)\t293\n",
      "  (165, 29)\t393\n",
      "  (165, 35)\t107\n",
      "  (165, 19)\t564\n",
      "  (165, 24)\t626\n",
      "  (165, 17)\t214\n",
      "  (165, 12)\t111\n",
      "  (165, 31)\t177\n",
      "  (165, 21)\t53\n",
      "  (165, 32)\t106\n",
      "  (165, 20)\t10\n",
      "  (165, 13)\t266\n",
      "  (165, 16)\t110\n",
      "  (165, 23)\t172\n",
      "  (165, 27)\t8\n",
      "  (165, 36)\t18\n",
      "  (165, 2)\t2\n",
      "  (165, 34)\t50\n",
      "  (165, 46)\t8\n",
      "  (165, 49)\t12\n",
      "  (165, 1)\t4\n",
      "totoal time\n"
     ]
    },
    {
     "data": {
      "text/plain": [
       "0.01029900000003181"
      ]
     },
     "execution_count": 16,
     "metadata": {},
     "output_type": "execute_result"
    }
   ],
   "source": [
    "# csr timing\n",
    "print(X.tocsr())\n",
    "print(\"totoal time\")\n",
    "timeit.timeit(lambda: X.tocsr()*X.T.tocsr(),number=1)"
   ]
  },
  {
   "cell_type": "markdown",
   "id": "ca11b08b",
   "metadata": {},
   "source": [
    "#### 3.You can transform all the matrixes of the example on pg #2 of this module to be in coo format and modify the code to let the coo-implemented yield the same result as its original. Then compare the performance with (2)"
   ]
  },
  {
   "cell_type": "code",
   "execution_count": 17,
   "id": "e02e335c",
   "metadata": {},
   "outputs": [
    {
     "name": "stdout",
     "output_type": "stream",
     "text": [
      "  (0, 28)\t476\n",
      "  (0, 15)\t864\n",
      "  (0, 11)\t455\n",
      "  (0, 14)\t249\n",
      "  (0, 0)\t1131\n",
      "  (0, 33)\t90\n",
      "  (0, 18)\t126\n",
      "  (0, 30)\t542\n",
      "  (0, 26)\t294\n",
      "  (0, 25)\t521\n",
      "  (0, 22)\t387\n",
      "  (0, 29)\t483\n",
      "  (0, 35)\t85\n",
      "  (0, 19)\t652\n",
      "  (0, 24)\t534\n",
      "  (0, 17)\t214\n",
      "  (0, 12)\t97\n",
      "  (0, 31)\t211\n",
      "  (0, 21)\t47\n",
      "  (0, 32)\t106\n",
      "  (0, 20)\t28\n",
      "  (0, 13)\t306\n",
      "  (0, 16)\t132\n",
      "  (0, 23)\t156\n",
      "  (0, 27)\t42\n",
      "  :\t:\n",
      "  (165, 18)\t176\n",
      "  (165, 30)\t574\n",
      "  (165, 26)\t194\n",
      "  (165, 25)\t525\n",
      "  (165, 22)\t293\n",
      "  (165, 29)\t393\n",
      "  (165, 35)\t107\n",
      "  (165, 19)\t564\n",
      "  (165, 24)\t626\n",
      "  (165, 17)\t214\n",
      "  (165, 12)\t111\n",
      "  (165, 31)\t177\n",
      "  (165, 21)\t53\n",
      "  (165, 32)\t106\n",
      "  (165, 20)\t10\n",
      "  (165, 13)\t266\n",
      "  (165, 16)\t110\n",
      "  (165, 23)\t172\n",
      "  (165, 27)\t8\n",
      "  (165, 36)\t18\n",
      "  (165, 2)\t2\n",
      "  (165, 34)\t50\n",
      "  (165, 46)\t8\n",
      "  (165, 49)\t12\n",
      "  (165, 1)\t4\n",
      "total time\n"
     ]
    },
    {
     "data": {
      "text/plain": [
       "0.012671500000010383"
      ]
     },
     "execution_count": 17,
     "metadata": {},
     "output_type": "execute_result"
    }
   ],
   "source": [
    "# coo timing\n",
    "print(X.tocoo())\n",
    "print(\"total time\")\n",
    "timeit.timeit(lambda: X.tocoo()*X.T.tocoo(),number=1)"
   ]
  },
  {
   "cell_type": "code",
   "execution_count": null,
   "id": "08d4f4ac",
   "metadata": {},
   "outputs": [],
   "source": []
  }
 ],
 "metadata": {
  "kernelspec": {
   "display_name": "Python 3 (ipykernel)",
   "language": "python",
   "name": "python3"
  },
  "language_info": {
   "codemirror_mode": {
    "name": "ipython",
    "version": 3
   },
   "file_extension": ".py",
   "mimetype": "text/x-python",
   "name": "python",
   "nbconvert_exporter": "python",
   "pygments_lexer": "ipython3",
   "version": "3.9.7"
  }
 },
 "nbformat": 4,
 "nbformat_minor": 5
}
